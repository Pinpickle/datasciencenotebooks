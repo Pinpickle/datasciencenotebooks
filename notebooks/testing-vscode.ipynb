{
 "metadata": {
  "language_info": {
   "codemirror_mode": {
    "name": "ipython",
    "version": 3
   },
   "file_extension": ".py",
   "mimetype": "text/x-python",
   "name": "python",
   "nbconvert_exporter": "python",
   "pygments_lexer": "ipython3",
   "version": "3.9.2-final"
  },
  "orig_nbformat": 2,
  "kernelspec": {
   "name": "python392jvsc74a57bd0aa5e982657e815fc54d6e55ff1cde7fb367e4efc577914db648867c5d46f61fb",
   "display_name": "Python 3.9.2 64-bit ('3.9.2')"
  },
  "metadata": {
   "interpreter": {
    "hash": "aa5e982657e815fc54d6e55ff1cde7fb367e4efc577914db648867c5d46f61fb"
   }
  }
 },
 "nbformat": 4,
 "nbformat_minor": 2,
 "cells": [
  {
   "source": [
    "# Data Science Notebooks"
   ],
   "cell_type": "markdown",
   "metadata": {}
  },
  {
   "cell_type": "code",
   "execution_count": 1,
   "metadata": {},
   "outputs": [
    {
     "output_type": "stream",
     "name": "stdout",
     "text": [
      "hello world\n"
     ]
    }
   ],
   "source": [
    "print('hello world')"
   ]
  }
 ]
}